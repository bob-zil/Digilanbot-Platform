{
 "cells": [
  {
   "cell_type": "markdown",
   "metadata": {},
   "source": [
    "### final_data.csv"
   ]
  },
  {
   "cell_type": "code",
   "execution_count": 4,
   "metadata": {},
   "outputs": [],
   "source": [
    "import pandas as pd\n",
    "\n",
    "banking = pd.read_csv('../data/banking.csv')\n",
    "greeting = pd.read_csv('../data/greeting.csv', on_bad_lines='skip')\n",
    "out_of_domain = pd.read_csv('../data/out_of_domain.csv')\n"
   ]
  },
  {
   "cell_type": "code",
   "execution_count": 5,
   "metadata": {},
   "outputs": [],
   "source": [
    "finals_data = pd.concat([banking, greeting, out_of_domain], ignore_index=True)"
   ]
  },
  {
   "cell_type": "code",
   "execution_count": 6,
   "metadata": {},
   "outputs": [],
   "source": [
    "# save the final data\n",
    "finals_data.to_csv('../data/final_data.csv', index=False)"
   ]
  },
  {
   "cell_type": "markdown",
   "metadata": {},
   "source": [
    "### data preparation"
   ]
  },
  {
   "cell_type": "code",
   "execution_count": 45,
   "metadata": {},
   "outputs": [],
   "source": [
    "import pandas as pd\n",
    "\n",
    "df = pd.read_csv('../data/banking.csv', on_bad_lines='skip')\n"
   ]
  },
  {
   "cell_type": "code",
   "execution_count": 46,
   "metadata": {},
   "outputs": [
    {
     "data": {
      "text/plain": [
       "(2250, 2)"
      ]
     },
     "execution_count": 46,
     "metadata": {},
     "output_type": "execute_result"
    }
   ],
   "source": [
    "df.shape"
   ]
  },
  {
   "cell_type": "code",
   "execution_count": 47,
   "metadata": {},
   "outputs": [
    {
     "data": {
      "text/html": [
       "<div>\n",
       "<style scoped>\n",
       "    .dataframe tbody tr th:only-of-type {\n",
       "        vertical-align: middle;\n",
       "    }\n",
       "\n",
       "    .dataframe tbody tr th {\n",
       "        vertical-align: top;\n",
       "    }\n",
       "\n",
       "    .dataframe thead th {\n",
       "        text-align: right;\n",
       "    }\n",
       "</style>\n",
       "<table border=\"1\" class=\"dataframe\">\n",
       "  <thead>\n",
       "    <tr style=\"text-align: right;\">\n",
       "      <th></th>\n",
       "      <th>text</th>\n",
       "      <th>intent</th>\n",
       "    </tr>\n",
       "  </thead>\n",
       "  <tbody>\n",
       "    <tr>\n",
       "      <th>0</th>\n",
       "      <td>What is digital lending?</td>\n",
       "      <td>Digital lending is the process of applying for...</td>\n",
       "    </tr>\n",
       "    <tr>\n",
       "      <th>1</th>\n",
       "      <td>What are the interest rates for digital loans ...</td>\n",
       "      <td>Interest rates vary by lender, loan amount, an...</td>\n",
       "    </tr>\n",
       "    <tr>\n",
       "      <th>2</th>\n",
       "      <td>Are digital loans regulated by Cambodian autho...</td>\n",
       "      <td>Yes, digital lending is regulated by the Natio...</td>\n",
       "    </tr>\n",
       "    <tr>\n",
       "      <th>3</th>\n",
       "      <td>Who can apply for a digital loan in Cambodia?</td>\n",
       "      <td>Anyone meeting the lender's eligibility criter...</td>\n",
       "    </tr>\n",
       "    <tr>\n",
       "      <th>4</th>\n",
       "      <td>What happens if I fail to repay my digital loan?</td>\n",
       "      <td>Failure to repay can lead to late fees, credit...</td>\n",
       "    </tr>\n",
       "  </tbody>\n",
       "</table>\n",
       "</div>"
      ],
      "text/plain": [
       "                                                text  \\\n",
       "0                           What is digital lending?   \n",
       "1  What are the interest rates for digital loans ...   \n",
       "2  Are digital loans regulated by Cambodian autho...   \n",
       "3      Who can apply for a digital loan in Cambodia?   \n",
       "4   What happens if I fail to repay my digital loan?   \n",
       "\n",
       "                                              intent  \n",
       "0  Digital lending is the process of applying for...  \n",
       "1  Interest rates vary by lender, loan amount, an...  \n",
       "2  Yes, digital lending is regulated by the Natio...  \n",
       "3  Anyone meeting the lender's eligibility criter...  \n",
       "4  Failure to repay can lead to late fees, credit...  "
      ]
     },
     "execution_count": 47,
     "metadata": {},
     "output_type": "execute_result"
    }
   ],
   "source": [
    "df.head()"
   ]
  },
  {
   "cell_type": "code",
   "execution_count": 48,
   "metadata": {},
   "outputs": [
    {
     "data": {
      "text/html": [
       "<div>\n",
       "<style scoped>\n",
       "    .dataframe tbody tr th:only-of-type {\n",
       "        vertical-align: middle;\n",
       "    }\n",
       "\n",
       "    .dataframe tbody tr th {\n",
       "        vertical-align: top;\n",
       "    }\n",
       "\n",
       "    .dataframe thead th {\n",
       "        text-align: right;\n",
       "    }\n",
       "</style>\n",
       "<table border=\"1\" class=\"dataframe\">\n",
       "  <thead>\n",
       "    <tr style=\"text-align: right;\">\n",
       "      <th></th>\n",
       "      <th>text</th>\n",
       "      <th>intent</th>\n",
       "    </tr>\n",
       "  </thead>\n",
       "  <tbody>\n",
       "    <tr>\n",
       "      <th>2245</th>\n",
       "      <td>Is loan usage monitored by the provider</td>\n",
       "      <td>Yes! Our loans are flexible and can be used fo...</td>\n",
       "    </tr>\n",
       "    <tr>\n",
       "      <th>2246</th>\n",
       "      <td>Loan for large purchases</td>\n",
       "      <td>Yes! Our loans are flexible and can be used fo...</td>\n",
       "    </tr>\n",
       "    <tr>\n",
       "      <th>2247</th>\n",
       "      <td>Are there restrictions on loan spending</td>\n",
       "      <td>Yes! Our loans are flexible and can be used fo...</td>\n",
       "    </tr>\n",
       "    <tr>\n",
       "      <th>2248</th>\n",
       "      <td>Loan for home renovations</td>\n",
       "      <td>Yes! Our loans are flexible and can be used fo...</td>\n",
       "    </tr>\n",
       "    <tr>\n",
       "      <th>2249</th>\n",
       "      <td>Use loan for a business purpose</td>\n",
       "      <td>Yes! Our loans are flexible and can be used fo...</td>\n",
       "    </tr>\n",
       "  </tbody>\n",
       "</table>\n",
       "</div>"
      ],
      "text/plain": [
       "                                         text  \\\n",
       "2245  Is loan usage monitored by the provider   \n",
       "2246                 Loan for large purchases   \n",
       "2247  Are there restrictions on loan spending   \n",
       "2248                Loan for home renovations   \n",
       "2249          Use loan for a business purpose   \n",
       "\n",
       "                                                 intent  \n",
       "2245  Yes! Our loans are flexible and can be used fo...  \n",
       "2246  Yes! Our loans are flexible and can be used fo...  \n",
       "2247  Yes! Our loans are flexible and can be used fo...  \n",
       "2248  Yes! Our loans are flexible and can be used fo...  \n",
       "2249  Yes! Our loans are flexible and can be used fo...  "
      ]
     },
     "execution_count": 48,
     "metadata": {},
     "output_type": "execute_result"
    }
   ],
   "source": [
    "df.tail()"
   ]
  },
  {
   "cell_type": "code",
   "execution_count": 49,
   "metadata": {},
   "outputs": [],
   "source": [
    "# remove intent\n",
    "df = df.drop(columns=['intent'])"
   ]
  },
  {
   "cell_type": "code",
   "execution_count": 50,
   "metadata": {},
   "outputs": [],
   "source": [
    "# create a new column called 'intent' and set it to 'greeting' and all of rows is 'greeting'\n",
    "df['intent'] = 'banking'\n"
   ]
  },
  {
   "cell_type": "code",
   "execution_count": 51,
   "metadata": {},
   "outputs": [],
   "source": [
    "df.to_csv('../data/banking1.csv', index=False)"
   ]
  }
 ],
 "metadata": {
  "kernelspec": {
   "display_name": "cudaenv",
   "language": "python",
   "name": "python3"
  },
  "language_info": {
   "codemirror_mode": {
    "name": "ipython",
    "version": 3
   },
   "file_extension": ".py",
   "mimetype": "text/x-python",
   "name": "python",
   "nbconvert_exporter": "python",
   "pygments_lexer": "ipython3",
   "version": "3.9.21"
  }
 },
 "nbformat": 4,
 "nbformat_minor": 2
}
